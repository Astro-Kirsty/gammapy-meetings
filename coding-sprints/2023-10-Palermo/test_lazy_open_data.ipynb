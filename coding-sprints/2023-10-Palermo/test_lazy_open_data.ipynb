{
 "cells": [
  {
   "cell_type": "code",
   "execution_count": 1,
   "id": "f35a7040",
   "metadata": {},
   "outputs": [
    {
     "name": "stderr",
     "output_type": "stream",
     "text": [
      "Gammapy support for parallelisation with ray is still a prototype and is not fully functional.\n"
     ]
    }
   ],
   "source": [
    "import astropy.units as u\n",
    "from astropy.time import Time\n",
    "from astropy.coordinates import SkyCoord\n",
    "import numpy as np\n",
    "from pathlib import Path\n",
    "from gammapy.data import DataStore, EventList, Observation, Observations\n",
    "from gammapy.maps import WcsGeom, MapAxis\n",
    "from gammapy.datasets import MapDataset\n",
    "from gammapy.makers import MapDatasetMaker, FoVBackgroundMaker, SafeMaskMaker"
   ]
  },
  {
   "cell_type": "code",
   "execution_count": 2,
   "id": "6d0dc5c6",
   "metadata": {},
   "outputs": [],
   "source": [
    "DL3_direc = \"/Volumes/WorkData/hess/fits/hap_fr/hap-16-03_fitscl7/Prod23_Calib0834/ash_stereo_Prod17_Calib0834_thsq64\""
   ]
  },
  {
   "cell_type": "code",
   "execution_count": 3,
   "id": "93177590",
   "metadata": {},
   "outputs": [],
   "source": [
    "data_store = DataStore.from_dir(DL3_direc)"
   ]
  },
  {
   "cell_type": "code",
   "execution_count": 4,
   "id": "026c9ea0",
   "metadata": {},
   "outputs": [],
   "source": [
    "target_pos = SkyCoord(ra=266.816121, dec=-29.966925, unit='deg', frame='icrs')"
   ]
  },
  {
   "cell_type": "code",
   "execution_count": 5,
   "id": "aad42984",
   "metadata": {},
   "outputs": [],
   "source": [
    "selection = dict(\n",
    "    type=\"sky_circle\",\n",
    "    frame=\"icrs\",\n",
    "    lon=target_pos.ra,\n",
    "    lat=target_pos.dec,\n",
    "    radius=\"4 deg\",\n",
    ")\n",
    "selected_obs_table = data_store.obs_table.select_observations(selection)"
   ]
  },
  {
   "cell_type": "code",
   "execution_count": 6,
   "id": "20054a52",
   "metadata": {},
   "outputs": [],
   "source": [
    "obs_id = selected_obs_table['OBS_ID']\n",
    "obs_id_valid = obs_id[np.where(obs_id >= 50563)]"
   ]
  },
  {
   "cell_type": "code",
   "execution_count": 7,
   "id": "d5b33e23",
   "metadata": {},
   "outputs": [],
   "source": [
    "observations = data_store.get_observations(obs_id_valid, required_irf=\"full-enclosure\")"
   ]
  },
  {
   "cell_type": "code",
   "execution_count": 8,
   "id": "8a4531c8",
   "metadata": {},
   "outputs": [],
   "source": [
    "obs = observations[0]"
   ]
  },
  {
   "cell_type": "code",
   "execution_count": 9,
   "id": "d90b3768",
   "metadata": {},
   "outputs": [
    {
     "name": "stdout",
     "output_type": "stream",
     "text": [
      "MapAxis\n",
      "\n",
      "\tname       : energy    \n",
      "\tunit       : 'TeV'     \n",
      "\tnbins      : 10        \n",
      "\tnode type  : edges     \n",
      "\tedges min  : 1.0e-01 TeV\n",
      "\tedges max  : 1.0e+01 TeV\n",
      "\tinterp     : log       \n",
      "\n"
     ]
    }
   ],
   "source": [
    "energy = MapAxis.from_energy_bounds(0.1, 10, 5, per_decade=True, unit='TeV')\n",
    "print(energy)"
   ]
  },
  {
   "cell_type": "code",
   "execution_count": 10,
   "id": "63e5872c",
   "metadata": {},
   "outputs": [],
   "source": [
    "energy_true = MapAxis.from_energy_bounds(0.05, 50, 8, per_decade=True, unit='TeV', name='energy_true')"
   ]
  },
  {
   "cell_type": "code",
   "execution_count": 11,
   "id": "2fc981a1",
   "metadata": {},
   "outputs": [],
   "source": [
    "geom = WcsGeom.create(skydir=target_pos, width=4 * u.deg, binsz=0.02 * u.deg, frame='icrs', axes=[energy])"
   ]
  },
  {
   "cell_type": "code",
   "execution_count": 12,
   "id": "256bc6b6",
   "metadata": {},
   "outputs": [],
   "source": [
    "stacked = MapDataset.create(\n",
    "    geom=geom, energy_axis_true=energy_true, name=\"stacked\"\n",
    ")"
   ]
  },
  {
   "cell_type": "code",
   "execution_count": 13,
   "id": "45729b75",
   "metadata": {},
   "outputs": [],
   "source": [
    "offset_max = 2.5 * u.deg\n",
    "maker = MapDatasetMaker()\n",
    "maker_safe_mask = SafeMaskMaker(\n",
    "    methods=[\"offset-max\", \"aeff-max\"], offset_max=offset_max\n",
    ")\n",
    "maker_fov = FoVBackgroundMaker()"
   ]
  },
  {
   "cell_type": "code",
   "execution_count": 14,
   "id": "6ee2bed0",
   "metadata": {
    "scrolled": false
   },
   "outputs": [
    {
     "name": "stderr",
     "output_type": "stream",
     "text": [
      "First try: _gti\n",
      "First except: _gti\n",
      "Second try: _gti\n",
      "First try: aeff\n",
      "First except: aeff\n",
      "Second try: aeff\n",
      "First try: _pointing\n",
      "First except: _pointing\n",
      "Second try: _pointing\n",
      "Second except: _pointing\n",
      "HDU 'EVENTS' not found\n",
      "First try: _events\n",
      "First except: _events\n",
      "Second try: _events\n",
      "First try: _events\n",
      "First except: _events\n",
      "Second try: _events\n",
      "First try: _pointing\n",
      "First try: counts\n",
      "First try: counts\n",
      "First try: _events\n",
      "First except: _events\n",
      "Second try: _events\n",
      "First try: exposure\n",
      "First try: aeff\n",
      "First except: aeff\n",
      "Second try: aeff\n",
      "First try: _gti\n",
      "First except: _gti\n",
      "Second try: _gti\n",
      "First try: _gti\n",
      "First except: _gti\n",
      "Second try: _gti\n",
      "First try: _gti\n",
      "First except: _gti\n",
      "Second try: _gti\n",
      "First try: _pointing\n",
      "First try: _pointing\n",
      "First try: _pointing\n",
      "First try: _gti\n",
      "First except: _gti\n",
      "Second try: _gti\n",
      "First try: aeff\n",
      "First except: aeff\n",
      "Second try: aeff\n",
      "First try: counts\n",
      "First try: bkg\n",
      "First except: bkg\n",
      "Second try: bkg\n",
      "First try: _pointing\n",
      "First try: _pointing\n",
      "First try: _gti\n",
      "First except: _gti\n",
      "Second try: _gti\n",
      "First try: _gti\n",
      "First except: _gti\n",
      "Second try: _gti\n",
      "First try: _gti\n",
      "First except: _gti\n",
      "Second try: _gti\n",
      "First try: _gti\n",
      "First except: _gti\n",
      "Second try: _gti\n",
      "First try: psf\n",
      "First try: psf\n",
      "First except: psf\n",
      "Second try: psf\n",
      "First try: _gti\n",
      "First except: _gti\n",
      "Second try: _gti\n",
      "First try: _gti\n",
      "First except: _gti\n",
      "Second try: _gti\n",
      "First try: _gti\n",
      "First except: _gti\n",
      "Second try: _gti\n",
      "First try: _pointing\n",
      "First try: _pointing\n",
      "First try: _gti\n",
      "First except: _gti\n",
      "Second try: _gti\n",
      "First try: aeff\n",
      "First except: aeff\n",
      "Second try: aeff\n",
      "First try: _gti\n",
      "First except: _gti\n",
      "Second try: _gti\n",
      "First try: _gti\n",
      "First except: _gti\n",
      "Second try: _gti\n",
      "First try: _gti\n",
      "First except: _gti\n",
      "Second try: _gti\n",
      "First try: _pointing\n",
      "First try: _pointing\n",
      "First try: edisp\n",
      "First try: edisp\n",
      "First try: edisp\n",
      "First except: edisp\n",
      "Second try: edisp\n",
      "First try: _gti\n",
      "First except: _gti\n",
      "Second try: _gti\n",
      "First try: _gti\n",
      "First except: _gti\n",
      "Second try: _gti\n",
      "First try: _gti\n",
      "First except: _gti\n",
      "Second try: _gti\n",
      "First try: _pointing\n",
      "First try: _pointing\n",
      "First try: _gti\n",
      "First except: _gti\n",
      "Second try: _gti\n",
      "First try: aeff\n",
      "First except: aeff\n",
      "Second try: aeff\n",
      "First try: edisp\n",
      "First except: edisp\n",
      "Second try: edisp\n",
      "First try: _gti\n",
      "First except: _gti\n",
      "Second try: _gti\n",
      "First try: _gti\n",
      "First except: _gti\n",
      "Second try: _gti\n",
      "First try: _gti\n",
      "First except: _gti\n",
      "Second try: _gti\n",
      "First try: _pointing\n",
      "First try: _pointing\n",
      "First try: mask_safe\n",
      "First try: mask_safe\n",
      "First try: background\n",
      "First try: background\n",
      "First try: counts\n",
      "First try: counts\n",
      "First try: _gti\n",
      "First except: _gti\n",
      "Second try: _gti\n",
      "First try: _gti\n",
      "First except: _gti\n",
      "Second try: _gti\n",
      "First try: _gti\n",
      "First except: _gti\n",
      "Second try: _gti\n",
      "First try: _pointing\n",
      "First try: _pointing\n",
      "First try: counts\n",
      "First try: counts\n",
      "First try: exposure\n",
      "First try: counts\n",
      "First try: counts\n",
      "First try: counts\n",
      "First try: mask_fit\n",
      "First try: counts\n",
      "First try: counts\n",
      "First try: counts\n",
      "First try: counts\n",
      "First try: background\n",
      "First try: background\n",
      "First try: background\n",
      "First try: mask_safe\n",
      "First try: mask_fit\n",
      "First try: mask_safe\n",
      "First try: mask_fit\n",
      "First try: counts\n",
      "First try: background\n",
      "First try: background\n",
      "First try: counts\n",
      "First try: counts\n",
      "First try: background\n",
      "First try: background\n",
      "First try: background\n",
      "First try: mask_safe\n",
      "First try: mask_fit\n",
      "First try: mask_safe\n",
      "First try: mask_fit\n",
      "First try: counts\n",
      "First try: background\n",
      "First try: background\n"
     ]
    }
   ],
   "source": [
    "dataset = maker.run(stacked, obs)\n",
    "dataset = maker_safe_mask.run(dataset, obs)\n",
    "dataset = maker_fov.run(dataset)"
   ]
  },
  {
   "cell_type": "code",
   "execution_count": null,
   "id": "0b8ead84",
   "metadata": {},
   "outputs": [],
   "source": []
  }
 ],
 "metadata": {
  "kernelspec": {
   "display_name": "Python 3 (ipykernel)",
   "language": "python",
   "name": "python3"
  },
  "language_info": {
   "codemirror_mode": {
    "name": "ipython",
    "version": 3
   },
   "file_extension": ".py",
   "mimetype": "text/x-python",
   "name": "python",
   "nbconvert_exporter": "python",
   "pygments_lexer": "ipython3",
   "version": "3.9.16"
  }
 },
 "nbformat": 4,
 "nbformat_minor": 5
}
